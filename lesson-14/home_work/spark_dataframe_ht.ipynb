{
 "cells": [
  {
   "cell_type": "code",
   "metadata": {
    "collapsed": true,
    "ExecuteTime": {
     "end_time": "2024-05-30T21:28:21.869005Z",
     "start_time": "2024-05-30T21:28:21.384088Z"
    }
   },
   "source": [
    "from pyspark.sql import SparkSession, functions as F, types as T"
   ],
   "outputs": [],
   "execution_count": 1
  },
  {
   "cell_type": "code",
   "metadata": {
    "collapsed": false,
    "pycharm": {
     "is_executing": true
    },
    "ExecuteTime": {
     "end_time": "2024-05-30T21:29:15.791772Z",
     "start_time": "2024-05-30T21:28:21.872242Z"
    }
   },
   "source": [
    "spark = SparkSession.builder.master('local[*]').getOrCreate()"
   ],
   "outputs": [],
   "execution_count": 2
  },
  {
   "cell_type": "code",
   "metadata": {
    "collapsed": false,
    "ExecuteTime": {
     "end_time": "2024-05-30T21:29:15.801869Z",
     "start_time": "2024-05-30T21:29:15.793772Z"
    }
   },
   "source": [
    "print(spark.version)"
   ],
   "outputs": [
    {
     "name": "stdout",
     "output_type": "stream",
     "text": [
      "3.4.1\n"
     ]
    }
   ],
   "execution_count": 3
  },
  {
   "cell_type": "code",
   "metadata": {
    "collapsed": false,
    "ExecuteTime": {
     "end_time": "2024-05-30T21:29:38.108840Z",
     "start_time": "2024-05-30T21:29:15.804503Z"
    }
   },
   "source": [
    "actor_df = spark.read.csv('./data/actor.csv', header=True, inferSchema=True)\n",
    "address_df = spark.read.csv('./data/address.csv', header=True, inferSchema=True)\n",
    "category_df = spark.read.csv('./data/category.csv', header=True, inferSchema=True)\n",
    "city_df = spark.read.csv('./data/city.csv', header=True, inferSchema=True)\n",
    "country_df = spark.read.csv('./data/country.csv', header=True, inferSchema=True)\n",
    "customer_df = spark.read.csv('./data/customer.csv', header=True, inferSchema=True)\n",
    "film_df = spark.read.csv('./data/film.csv', header=True, inferSchema=True)\n",
    "film_actor_df = spark.read.csv('./data/film_actor.csv', header=True, inferSchema=True)\n",
    "film_category_df = spark.read.csv('./data/film_category.csv', header=True, inferSchema=True)\n",
    "inventory_df = spark.read.csv('./data/inventory.csv', header=True, inferSchema=True)\n",
    "language_df = spark.read.csv('./data/language.csv', header=True, inferSchema=True)\n",
    "payment_df = spark.read.csv('./data/payment.csv', header=True, inferSchema=True)\n",
    "rental_df = spark.read.csv('./data/rental.csv', header=True, inferSchema=True)\n",
    "staff_df = spark.read.csv('./data/staff.csv', header=True, inferSchema=True)\n",
    "store_df = spark.read.csv('./data/store.csv', header=True, inferSchema=True)"
   ],
   "outputs": [],
   "execution_count": 4
  },
  {
   "cell_type": "markdown",
   "metadata": {
    "collapsed": false
   },
   "source": [
    "# Домашнє завдання на тему Spark SQL\n",
    "\n",
    "Задачі з домашнього завдання на SQL потрібно розвʼязати за допомогою Spark SQL DataFrame API.\n",
    "\n",
    "- Дампи таблиць знаходяться в папці `data`. Датафрейми таблиць вже створені в клітинці вище.\n",
    "- Можете створювати стільки нових клітинок, скільки вам необхідно.\n",
    "- Розвʼязок кожної задачі має бути відображений в самому файлі (використати метод `.show()`)\n",
    "- код має бути оформлений у відповідності із одним із стилем, показаним лектором на занятті 13.\n",
    "\n",
    "**Увага!**\n",
    "Використовувати мову запитів SQL безпосередньо забороняється, потрібно використовувати виключно DataFrame API!\n"
   ]
  },
  {
   "cell_type": "markdown",
   "metadata": {
    "collapsed": false
   },
   "source": [
    "1.\n",
    "Вивести кількість фільмів в кожній категорії.\n",
    "Результат відсортувати за спаданням."
   ]
  },
  {
   "cell_type": "code",
   "metadata": {
    "collapsed": false,
    "ExecuteTime": {
     "end_time": "2024-05-30T21:29:44.415155Z",
     "start_time": "2024-05-30T21:29:38.113049Z"
    }
   },
   "source": [
    "from pyspark.sql.functions import countDistinct\n",
    "\n",
    "result1_df = film_category_df.join(category_df, film_category_df.category_id == category_df.category_id) \\\n",
    "    .groupBy(category_df.name) \\\n",
    "    .agg(countDistinct(film_category_df.film_id).alias(\"film_count\")) \\\n",
    "    .orderBy(\"film_count\", ascending=False)\n",
    "      \n",
    "result1_df.show()"
   ],
   "outputs": [
    {
     "name": "stdout",
     "output_type": "stream",
     "text": [
      "+-----------+----------+\n",
      "|       name|film_count|\n",
      "+-----------+----------+\n",
      "|     Sports|        74|\n",
      "|    Foreign|        73|\n",
      "|     Family|        69|\n",
      "|Documentary|        68|\n",
      "|  Animation|        66|\n",
      "|     Action|        64|\n",
      "|        New|        63|\n",
      "|      Drama|        62|\n",
      "|      Games|        61|\n",
      "|     Sci-Fi|        61|\n",
      "|   Children|        60|\n",
      "|     Comedy|        58|\n",
      "|     Travel|        57|\n",
      "|   Classics|        57|\n",
      "|     Horror|        56|\n",
      "|      Music|        51|\n",
      "+-----------+----------+\n",
      "\n"
     ]
    }
   ],
   "execution_count": 5
  },
  {
   "cell_type": "markdown",
   "metadata": {
    "collapsed": false
   },
   "source": [
    "2.\n",
    "Вивести 10 акторів, чиї фільми брали на прокат найбільше.\n",
    "Результат відсортувати за спаданням."
   ]
  },
  {
   "cell_type": "code",
   "metadata": {
    "collapsed": false,
    "ExecuteTime": {
     "end_time": "2024-05-30T21:29:50.604415Z",
     "start_time": "2024-05-30T21:29:44.418157Z"
    }
   },
   "source": [
    "from pyspark.sql.functions import concat_ws, count\n",
    "\n",
    "result2_df = rental_df.join(inventory_df, rental_df.inventory_id == inventory_df.inventory_id) \\\n",
    "    .join(film_actor_df, inventory_df.film_id == film_actor_df.film_id) \\\n",
    "    .join(actor_df, film_actor_df.actor_id == actor_df.actor_id) \\\n",
    "    .withColumn(\"actor\", concat_ws(' ', actor_df.first_name, actor_df.last_name)) \\\n",
    "    .groupBy(\"actor\") \\\n",
    "    .agg(count(rental_df.rental_id).alias(\"rental_count\")) \\\n",
    "    .orderBy(\"rental_count\", ascending=False) \\\n",
    "    .limit(10)\n",
    "\n",
    "result2_df.show()"
   ],
   "outputs": [
    {
     "name": "stdout",
     "output_type": "stream",
     "text": [
      "+------------------+------------+\n",
      "|             actor|rental_count|\n",
      "+------------------+------------+\n",
      "|       SUSAN DAVIS|         825|\n",
      "|    GINA DEGENERES|         753|\n",
      "|    MATTHEW CARREY|         678|\n",
      "|       MARY KEITEL|         674|\n",
      "|ANGELA WITHERSPOON|         654|\n",
      "|       WALTER TORN|         640|\n",
      "|       HENRY BERRY|         612|\n",
      "|       JAYNE NOLTE|         611|\n",
      "|        VAL BOLGER|         605|\n",
      "|     SANDRA KILMER|         604|\n",
      "+------------------+------------+\n",
      "\n"
     ]
    }
   ],
   "execution_count": 6
  },
  {
   "cell_type": "markdown",
   "metadata": {
    "collapsed": false
   },
   "source": [
    "3.\n",
    "Вивести категорія фільмів, на яку було витрачено найбільше грошей\n",
    "в прокаті"
   ]
  },
  {
   "cell_type": "code",
   "metadata": {
    "collapsed": false,
    "ExecuteTime": {
     "end_time": "2024-05-30T21:29:54.047381Z",
     "start_time": "2024-05-30T21:29:50.606757Z"
    }
   },
   "source": [
    "from pyspark.sql.functions import sum\n",
    "\n",
    "result3_df = rental_df.join(inventory_df, rental_df.inventory_id == inventory_df.inventory_id) \\\n",
    "    .join(film_category_df, inventory_df.film_id == film_category_df.film_id) \\\n",
    "    .join(category_df, film_category_df.category_id == category_df.category_id) \\\n",
    "    .join(payment_df, rental_df.rental_id == payment_df.rental_id) \\\n",
    "    .groupBy(category_df.name) \\\n",
    "    .agg(sum(payment_df.amount).alias(\"total_amount\")) \\\n",
    "    .orderBy(\"total_amount\", ascending=False) \\\n",
    "    .limit(1)\n",
    "\n",
    "result3_df.show()"
   ],
   "outputs": [
    {
     "name": "stdout",
     "output_type": "stream",
     "text": [
      "+------+-----------------+\n",
      "|  name|     total_amount|\n",
      "+------+-----------------+\n",
      "|Sports|5314.209999999848|\n",
      "+------+-----------------+\n",
      "\n"
     ]
    }
   ],
   "execution_count": 7
  },
  {
   "cell_type": "markdown",
   "metadata": {
    "collapsed": false
   },
   "source": [
    "4.\n",
    "Вивести назви фільмів, яких не має в inventory."
   ]
  },
  {
   "cell_type": "code",
   "metadata": {
    "collapsed": false,
    "ExecuteTime": {
     "end_time": "2024-05-30T21:29:56.606672Z",
     "start_time": "2024-05-30T21:29:54.050381Z"
    }
   },
   "source": [
    "result4_df = film_df.join(inventory_df, film_df.film_id == inventory_df.film_id, how='left') \\\n",
    "    .filter(inventory_df.film_id.isNull()) \\\n",
    "    .select(film_df.title).distinct()\n",
    "\n",
    "result4_df.show()"
   ],
   "outputs": [
    {
     "name": "stdout",
     "output_type": "stream",
     "text": [
      "+--------------------+\n",
      "|               title|\n",
      "+--------------------+\n",
      "|       RAINBOW SHOCK|\n",
      "|           GUMP DATE|\n",
      "|         HOCUS FRIDA|\n",
      "|    TREASURE COMMAND|\n",
      "| CHINATOWN GLADIATOR|\n",
      "|        WALLS ARTIST|\n",
      "|      ARGONAUTS TOWN|\n",
      "|       PSYCHO SHRUNK|\n",
      "|   FIREHOUSE VIETNAM|\n",
      "|DELIVERANCE MULHO...|\n",
      "|       ROOF CHAMPION|\n",
      "|        TADPOLE PARK|\n",
      "|         APOLLO TEEN|\n",
      "|       HATE HANDICAP|\n",
      "|       PEARL DESTINY|\n",
      "|COMMANDMENTS EXPRESS|\n",
      "|        VOLUME HOUSE|\n",
      "|     CROWDS TELEMARK|\n",
      "|   RAIDERS ANTITRUST|\n",
      "|    KILL BROTHERHOOD|\n",
      "+--------------------+\n",
      "only showing top 20 rows\n",
      "\n"
     ]
    }
   ],
   "execution_count": 8
  },
  {
   "cell_type": "markdown",
   "metadata": {
    "collapsed": false
   },
   "source": [
    "5.\n",
    "Вивести топ 3 актори, які найбільше зʼявлялись в категорії фільмів “Children”"
   ]
  },
  {
   "cell_type": "code",
   "metadata": {
    "collapsed": false,
    "pycharm": {
     "is_executing": true
    },
    "ExecuteTime": {
     "end_time": "2024-05-30T21:30:00.499418Z",
     "start_time": "2024-05-30T21:29:56.606672Z"
    }
   },
   "source": [
    "result5_df = actor_df.join(film_actor_df, actor_df.actor_id == film_actor_df.actor_id) \\\n",
    "    .join(film_category_df, film_actor_df.film_id == film_category_df.film_id) \\\n",
    "    .join(category_df, film_category_df.category_id == category_df.category_id) \\\n",
    "    .filter(category_df.name == 'Children') \\\n",
    "    .withColumn(\"actor\", concat_ws(' ', actor_df.first_name, actor_df.last_name)) \\\n",
    "    .groupBy(\"actor\") \\\n",
    "    .agg(count(film_actor_df.film_id).alias(\"film_count\")) \\\n",
    "    .orderBy(\"film_count\", ascending=False) \\\n",
    "    .limit(3)\n",
    "\n",
    "result5_df.show()"
   ],
   "outputs": [
    {
     "name": "stdout",
     "output_type": "stream",
     "text": [
      "+------------+----------+\n",
      "|       actor|film_count|\n",
      "+------------+----------+\n",
      "|HELEN VOIGHT|         7|\n",
      "| SUSAN DAVIS|         6|\n",
      "|  MARY TANDY|         5|\n",
      "+------------+----------+\n",
      "\n"
     ]
    }
   ],
   "execution_count": 9
  },
  {
   "cell_type": "code",
   "metadata": {
    "collapsed": false,
    "ExecuteTime": {
     "end_time": "2024-05-30T21:30:00.511385Z",
     "start_time": "2024-05-30T21:30:00.499418Z"
    }
   },
   "source": [],
   "outputs": [],
   "execution_count": 9
  },
  {
   "cell_type": "markdown",
   "metadata": {
    "collapsed": false
   },
   "source": [
    "Stop Spark session:"
   ]
  },
  {
   "cell_type": "code",
   "metadata": {
    "collapsed": false,
    "ExecuteTime": {
     "end_time": "2024-05-30T21:30:03.343994Z",
     "start_time": "2024-05-30T21:30:00.515370Z"
    }
   },
   "source": [
    "spark.stop()"
   ],
   "outputs": [],
   "execution_count": 10
  },
  {
   "metadata": {
    "ExecuteTime": {
     "end_time": "2024-05-30T21:30:03.349469Z",
     "start_time": "2024-05-30T21:30:03.345995Z"
    }
   },
   "cell_type": "code",
   "source": "",
   "outputs": [],
   "execution_count": 10
  }
 ],
 "metadata": {
  "kernelspec": {
   "display_name": "Python 3",
   "language": "python",
   "name": "python3"
  },
  "language_info": {
   "codemirror_mode": {
    "name": "ipython",
    "version": 2
   },
   "file_extension": ".py",
   "mimetype": "text/x-python",
   "name": "python",
   "nbconvert_exporter": "python",
   "pygments_lexer": "ipython2",
   "version": "2.7.6"
  }
 },
 "nbformat": 4,
 "nbformat_minor": 0
}
